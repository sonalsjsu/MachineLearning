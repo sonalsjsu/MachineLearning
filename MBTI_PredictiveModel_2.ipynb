{
 "cells": [
  {
   "cell_type": "code",
   "execution_count": 1,
   "metadata": {
    "id": "29XVOyDNT2gF"
   },
   "outputs": [],
   "source": [
    "'''Import libraries'''\n",
    "import pandas as pd\n",
    "import string\n",
    "import re\n",
    "from sklearn.feature_extraction.text import CountVectorizer\n",
    "import nltk\n",
    "from nltk.corpus import stopwords \n",
    "from nltk.tokenize import word_tokenize \n",
    "from nltk.stem import WordNetLemmatizer\n",
    "import warnings\n",
    "warnings.filterwarnings('ignore')\n",
    "from sklearn.model_selection import train_test_split\n",
    "from sklearn.preprocessing import LabelEncoder, RobustScaler\n",
    "import pickle"
   ]
  },
  {
   "cell_type": "code",
   "execution_count": 2,
   "metadata": {
    "id": "gU2KxnBTT2gL"
   },
   "outputs": [],
   "source": [
    "'''Load csv file'''\n",
    "data = pd.read_csv(\"mbti_1.csv\")\n"
   ]
  },
  {
   "cell_type": "code",
   "execution_count": 3,
   "metadata": {
    "id": "k_8DZaXiT2gL"
   },
   "outputs": [],
   "source": [
    "dataframe = data.copy()"
   ]
  },
  {
   "cell_type": "code",
   "execution_count": 4,
   "metadata": {
    "id": "pdmgKwg5T2gM"
   },
   "outputs": [],
   "source": [
    "def prepocessing_regex(text):\n",
    "    text=re.sub(r'\\|\\|\\|', r'', text) # removing |||\n",
    "    text=re.sub(r'http\\S+', r'', text) # removing http.\n",
    "    text=text.replace(\".\", \"\").replace(\",\",\"\").replace('+', '').replace(\":\",\"\").replace('\"','').replace(\"'\",'')\n",
    "    text=text.replace(\";\",'').replace('?',\"\").replace('_____','').replace('-','').replace('/','').replace(\"@\",\"\")\n",
    "    text=text.replace(\"!\",'')\n",
    "    text=re.sub(r'[()]', '', text) # removing '(' or ')'\n",
    "    text=re.sub(r'[<>]', '', text) # removing '<' or '>'\n",
    "    text=text.replace(\"*\",\"\").lower()\n",
    "    text=re.sub(\"[^a-zA-Z]\",\" \",text) #keep only words\n",
    "    prepocessed_text=text\n",
    "    \n",
    "    stop_words = (stopwords.words('english')) \n",
    "    # mbti types will be removed in the posts for training and test \n",
    "    stop_words.extend(('infj', 'entp', 'intp', 'intj', 'entj', 'enfj', 'infp', \n",
    "                   'enfp', 'isfp', 'istp', 'isfj', 'istj', 'estp', 'esfp', 'estj', 'esfj',\n",
    "                   'INFJ', 'ENTP', 'INTP', 'INTJ', 'ENTJ', 'ENFJ', 'INFP', 'ENFP','ISFP', \n",
    "                   'ISTP', 'ISFJ', 'ISTJ', 'ESTP', 'ESFP', 'ESTJ', 'ESFJ'))\n",
    "    stop_words=set(stop_words)\n",
    "    word_tokens=word_tokenize(prepocessed_text)\n",
    "    word_tokenized_preprocessed=[]\n",
    "\n",
    "    for token in word_tokens:\n",
    "        if token not in stop_words:\n",
    "            word_tokenized_preprocessed.append(token)\n",
    "    # converting list to string       \n",
    "    s=word_tokenized_preprocessed\n",
    "    converting_stopwords = ' '.join(map(str, s))\n",
    "    stop_words=[converting_stopwords]\n",
    "    \n",
    "    return stop_words"
   ]
  },
  {
   "cell_type": "code",
   "execution_count": 5,
   "metadata": {
    "id": "-oGUqiHGT2gM"
   },
   "outputs": [],
   "source": [
    "def Lemmantization(prepocessed_words):\n",
    "    n=WordNetLemmatizer()\n",
    "    words_for_lemman=prepocessed_words\n",
    "    lemmantized_word=[n.lemmatize(w) for w in words_for_lemman]\n",
    "    # converting list to string\n",
    "    to_str=lemmantized_word\n",
    "    lemmantized_word=' '.join(map(str, to_str))\n",
    "    \n",
    "    return lemmantized_word"
   ]
  },
  {
   "cell_type": "markdown",
   "metadata": {
    "id": "RDNsaOM5T2gM"
   },
   "source": [
    "# Twitter prediction"
   ]
  },
  {
   "cell_type": "code",
   "execution_count": 6,
   "metadata": {
    "id": "lzLAAWjlT2gM",
    "outputId": "d48d4df4-5063-48be-b085-8d15b5505fe4"
   },
   "outputs": [],
   "source": [
    "import tweepy\n",
    "import sys\n",
    "import re\n",
    "import numpy as np"
   ]
  },
  {
   "cell_type": "markdown",
   "metadata": {
    "id": "GJ_bLmBgT2gN"
   },
   "source": [
    "# twitter API keys"
   ]
  },
  {
   "cell_type": "code",
   "execution_count": 7,
   "metadata": {
    "id": "_zFGyq3UT2gN"
   },
   "outputs": [],
   "source": [
    "def twitter_prediction(userID):\n",
    "    consumer_key        = \"ih9PqgrEHNlrZhR3gZS0oZKVz\"\n",
    "    consumer_secret     = \"Do6vNjFBOQcXW6lmfC9XTL6E0r2JLZaaZ3cIMmjh0xn41a1mW0\"\n",
    "    access_token        = \"1387268748738908166-CL5aXMb9i6SXPrYp2NFRM4lvNP2ylg\"\n",
    "    access_token_secret = \"s6ChxUtAWGEEgdqcUOnN2qigX3AJ0xV2LCcOeOsMOmmsn\"\n",
    "    auth =tweepy.OAuthHandler(consumer_key, consumer_secret)\n",
    "    auth.set_access_token(access_token, access_token_secret)\n",
    "    api= tweepy.API(auth)\n",
    "\n",
    "    tweets = api.user_timeline(screen_name=userID, \n",
    "                           # 200 is the maximum allowed count\n",
    "                           count=200,\n",
    "                           include_rts = False,\n",
    "                           # Necessary to keep full_text \n",
    "                           # otherwise only the first 140 words are extracted\n",
    "                           tweet_mode = 'extended'\n",
    "                           )\n",
    "    all_tweets = []\n",
    "    all_tweets.extend(tweets)\n",
    "    oldest_id = tweets[-1].id\n",
    "    while True:\n",
    "        tweets = api.user_timeline(screen_name=userID, \n",
    "                               # 200 is the maximum allowed count\n",
    "                               count=200,\n",
    "                               include_rts = False,\n",
    "                               max_id = oldest_id - 1,\n",
    "                               # Necessary to keep full_text \n",
    "                               # otherwise only the first 140 words are extracted\n",
    "                               tweet_mode = 'extended'\n",
    "                               )\n",
    "        if len(tweets) == 0:\n",
    "            break\n",
    "        oldest_id = tweets[-1].id\n",
    "        all_tweets.extend(tweets)\n",
    "        #print('N of tweets downloaded till now {}'.format(len(all_tweets)))\n",
    "        \n",
    "    jb=[]\n",
    "    for info in all_tweets[:]:\n",
    "        #print(info.full_text)\n",
    "        jb.append(info.full_text)\n",
    "        \n",
    "        \n",
    "    df=pd.DataFrame(jb,columns=['tweets'])\n",
    "    df['processed']=df['tweets'].apply(prepocessing_regex)\n",
    "    df['lemmantized']=df['processed'].apply(Lemmantization)\n",
    "    df['one'] = df['lemmantized'].str.cat(sep=' ')\n",
    "    vect=CountVectorizer(\n",
    "                             analyzer = 'word',\n",
    "                             tokenizer=None, \n",
    "                             preprocessor = None, \n",
    "                             stop_words = None, \n",
    "                             #ngram_range=(1, 3), \n",
    "                             #max_df=.8,\n",
    "                             #min_df=2,                        \n",
    "                             max_features = 2000\n",
    "                            )\n",
    "    \n",
    "    x=[df['one'][0]]\n",
    "    X =  vect.fit_transform(x) \n",
    "    \n",
    "    #Logistic regression\n",
    "    with open(\"IE_model_1.pkl\",\"rb\") as fr1a:\n",
    "        IE_model_1 = pickle.load(fr1a)\n",
    "    with open(\"NS_model_1.pkl\",\"rb\") as fr1b:\n",
    "        NS_model_1 = pickle.load(fr1b)\n",
    "    with open(\"FT_model_1.pkl\",\"rb\") as fr1c:\n",
    "        FT_model_1 = pickle.load(fr1c)\n",
    "    with open(\"JP_model_1.pkl\",\"rb\") as fr1d:\n",
    "        JP_model_1 = pickle.load(fr1d)\n",
    "        \n",
    "       \n",
    "        \n",
    "        #SVM\n",
    "    with open(\"IE_model_5.pkl\",\"rb\") as fr:\n",
    "        IE_model_5 = pickle.load(fr)\n",
    "    with open(\"NS_model_5.pkl\",\"rb\") as fr:\n",
    "        NS_model_5 = pickle.load(fr)\n",
    "    with open(\"FT_model_5.pkl\",\"rb\") as fr:\n",
    "        FT_model_5 = pickle.load(fr)\n",
    "    with open(\"JP_model_5.pkl\",\"rb\") as fr:\n",
    "        JP_model_5 = pickle.load(fr)\n",
    "  \n",
    "\n",
    "\n",
    "    mbti=pd.DataFrame(index=[userID],columns=[\"LR\",\"SVM\"])#, columns=['User MBTI type'])\n",
    "    mbti['LR']=(IE_model_1.predict(X))+(NS_model_1.predict(X))+(FT_model_1.predict(X))+(JP_model_1.predict(X))\n",
    "    mbti['SVM']=(IE_model_5.predict(X))+(NS_model_5.predict(X))+(FT_model_5.predict(X))+(JP_model_5.predict(X))\n",
    "    \n",
    "    return mbti"
   ]
  },
  {
   "cell_type": "code",
   "execution_count": 8,
   "metadata": {
    "id": "JkUZVzZLT2gO",
    "outputId": "860d9869-c550-4860-d0f2-866aab75a7be",
    "scrolled": true
   },
   "outputs": [
    {
     "data": {
      "text/html": [
       "<div>\n",
       "<style scoped>\n",
       "    .dataframe tbody tr th:only-of-type {\n",
       "        vertical-align: middle;\n",
       "    }\n",
       "\n",
       "    .dataframe tbody tr th {\n",
       "        vertical-align: top;\n",
       "    }\n",
       "\n",
       "    .dataframe thead th {\n",
       "        text-align: right;\n",
       "    }\n",
       "</style>\n",
       "<table border=\"1\" class=\"dataframe\">\n",
       "  <thead>\n",
       "    <tr style=\"text-align: right;\">\n",
       "      <th></th>\n",
       "      <th>LR</th>\n",
       "      <th>SVM</th>\n",
       "    </tr>\n",
       "  </thead>\n",
       "  <tbody>\n",
       "    <tr>\n",
       "      <th>BarackObama</th>\n",
       "      <td>ENTJ</td>\n",
       "      <td>INFP</td>\n",
       "    </tr>\n",
       "  </tbody>\n",
       "</table>\n",
       "</div>"
      ],
      "text/plain": [
       "               LR   SVM\n",
       "BarackObama  ENTJ  INFP"
      ]
     },
     "execution_count": 8,
     "metadata": {},
     "output_type": "execute_result"
    }
   ],
   "source": [
    "twitter_prediction('BarackObama')  #\"ENTP\" 75 50  50"
   ]
  },
  {
   "cell_type": "code",
   "execution_count": 9,
   "metadata": {},
   "outputs": [
    {
     "data": {
      "text/html": [
       "<div>\n",
       "<style scoped>\n",
       "    .dataframe tbody tr th:only-of-type {\n",
       "        vertical-align: middle;\n",
       "    }\n",
       "\n",
       "    .dataframe tbody tr th {\n",
       "        vertical-align: top;\n",
       "    }\n",
       "\n",
       "    .dataframe thead th {\n",
       "        text-align: right;\n",
       "    }\n",
       "</style>\n",
       "<table border=\"1\" class=\"dataframe\">\n",
       "  <thead>\n",
       "    <tr style=\"text-align: right;\">\n",
       "      <th></th>\n",
       "      <th>LR</th>\n",
       "      <th>SVM</th>\n",
       "    </tr>\n",
       "  </thead>\n",
       "  <tbody>\n",
       "    <tr>\n",
       "      <th>justinbieber</th>\n",
       "      <td>INTJ</td>\n",
       "      <td>INFP</td>\n",
       "    </tr>\n",
       "  </tbody>\n",
       "</table>\n",
       "</div>"
      ],
      "text/plain": [
       "                LR   SVM\n",
       "justinbieber  INTJ  INFP"
      ]
     },
     "execution_count": 9,
     "metadata": {},
     "output_type": "execute_result"
    }
   ],
   "source": [
    "twitter_prediction('justinbieber')"
   ]
  },
  {
   "cell_type": "code",
   "execution_count": 11,
   "metadata": {},
   "outputs": [
    {
     "data": {
      "text/html": [
       "<div>\n",
       "<style scoped>\n",
       "    .dataframe tbody tr th:only-of-type {\n",
       "        vertical-align: middle;\n",
       "    }\n",
       "\n",
       "    .dataframe tbody tr th {\n",
       "        vertical-align: top;\n",
       "    }\n",
       "\n",
       "    .dataframe thead th {\n",
       "        text-align: right;\n",
       "    }\n",
       "</style>\n",
       "<table border=\"1\" class=\"dataframe\">\n",
       "  <thead>\n",
       "    <tr style=\"text-align: right;\">\n",
       "      <th></th>\n",
       "      <th>LR</th>\n",
       "      <th>SVM</th>\n",
       "    </tr>\n",
       "  </thead>\n",
       "  <tbody>\n",
       "    <tr>\n",
       "      <th>katyperry</th>\n",
       "      <td>ENTP</td>\n",
       "      <td>INFP</td>\n",
       "    </tr>\n",
       "  </tbody>\n",
       "</table>\n",
       "</div>"
      ],
      "text/plain": [
       "             LR   SVM\n",
       "katyperry  ENTP  INFP"
      ]
     },
     "execution_count": 11,
     "metadata": {},
     "output_type": "execute_result"
    }
   ],
   "source": [
    "twitter_prediction('katyperry') "
   ]
  },
  {
   "cell_type": "code",
   "execution_count": 12,
   "metadata": {},
   "outputs": [
    {
     "data": {
      "text/html": [
       "<div>\n",
       "<style scoped>\n",
       "    .dataframe tbody tr th:only-of-type {\n",
       "        vertical-align: middle;\n",
       "    }\n",
       "\n",
       "    .dataframe tbody tr th {\n",
       "        vertical-align: top;\n",
       "    }\n",
       "\n",
       "    .dataframe thead th {\n",
       "        text-align: right;\n",
       "    }\n",
       "</style>\n",
       "<table border=\"1\" class=\"dataframe\">\n",
       "  <thead>\n",
       "    <tr style=\"text-align: right;\">\n",
       "      <th></th>\n",
       "      <th>LR</th>\n",
       "      <th>SVM</th>\n",
       "    </tr>\n",
       "  </thead>\n",
       "  <tbody>\n",
       "    <tr>\n",
       "      <th>rihanna</th>\n",
       "      <td>INTJ</td>\n",
       "      <td>INFP</td>\n",
       "    </tr>\n",
       "  </tbody>\n",
       "</table>\n",
       "</div>"
      ],
      "text/plain": [
       "           LR   SVM\n",
       "rihanna  INTJ  INFP"
      ]
     },
     "execution_count": 12,
     "metadata": {},
     "output_type": "execute_result"
    }
   ],
   "source": [
    "twitter_prediction('rihanna') "
   ]
  },
  {
   "cell_type": "code",
   "execution_count": null,
   "metadata": {},
   "outputs": [],
   "source": []
  }
 ],
 "metadata": {
  "colab": {
   "collapsed_sections": [],
   "name": "MBTI_PredictiveMode_1.ipynb",
   "provenance": []
  },
  "kernelspec": {
   "display_name": "Python 3",
   "language": "python",
   "name": "python3"
  },
  "language_info": {
   "codemirror_mode": {
    "name": "ipython",
    "version": 3
   },
   "file_extension": ".py",
   "mimetype": "text/x-python",
   "name": "python",
   "nbconvert_exporter": "python",
   "pygments_lexer": "ipython3",
   "version": "3.8.3"
  }
 },
 "nbformat": 4,
 "nbformat_minor": 1
}
