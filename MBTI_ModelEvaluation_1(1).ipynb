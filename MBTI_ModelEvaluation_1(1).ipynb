{
 "cells": [
  {
   "cell_type": "code",
   "execution_count": 1,
   "metadata": {},
   "outputs": [],
   "source": [
    "'''Import libraries'''\n",
    "import pandas as pd\n",
    "import matplotlib.pyplot as plt\n",
    "from scipy.stats import norm\n",
    "import pandas as pd\n",
    "import numpy as np\n",
    "import string\n",
    "import re\n",
    "from sklearn.feature_extraction.text import CountVectorizer\n",
    "import nltk\n",
    "from nltk.corpus import stopwords \n",
    "from nltk.tokenize import word_tokenize \n",
    "from sklearn.feature_extraction.text import TfidfVectorizer\n",
    "from nltk.stem import PorterStemmer, WordNetLemmatizer\n",
    "from nltk.stem.snowball import SnowballStemmer\n",
    "import warnings\n",
    "warnings.filterwarnings('ignore')\n",
    "from sklearn.model_selection import train_test_split\n",
    "from sklearn.preprocessing import LabelEncoder, RobustScaler\n",
    "import pickle"
   ]
  },
  {
   "cell_type": "code",
   "execution_count": 2,
   "metadata": {},
   "outputs": [],
   "source": [
    "'''Load csv file'''\n",
    "data = pd.read_csv(\"mbti_1.csv\")"
   ]
  },
  {
   "cell_type": "markdown",
   "metadata": {},
   "source": [
    "# Data preprocessing "
   ]
  },
  {
   "cell_type": "code",
   "execution_count": 3,
   "metadata": {},
   "outputs": [],
   "source": [
    "dataframe = data.copy()"
   ]
  },
  {
   "cell_type": "code",
   "execution_count": 4,
   "metadata": {},
   "outputs": [],
   "source": [
    "def prepocessing_regex(text):\n",
    "    text=re.sub(r'\\|\\|\\|', r'', text) # removing |||\n",
    "    text=re.sub(r'http\\S+', r'', text) # removing http.\n",
    "    text=text.replace(\".\", \"\").replace(\",\",\"\").replace('+', '').replace(\":\",\"\").replace('\"','').replace(\"'\",'')\n",
    "    text=text.replace(\";\",'').replace('?',\"\").replace('_____','').replace('-','').replace('/','').replace(\"@\",\"\")\n",
    "    text=text.replace(\"!\",'')\n",
    "    text=re.sub(r'[()]', '', text) # removing '(' or ')'\n",
    "    text=re.sub(r'[<>]', '', text) # removing '<' or '>'\n",
    "    text=text.replace(\"*\",\"\").lower()\n",
    "    text=re.sub(\"[^a-zA-Z]\",\" \",text) #keep only words\n",
    "    prepocessed_text=text\n",
    "    \n",
    "    stop_words = (stopwords.words('english')) \n",
    "    # mbti types will be removed in the posts for training and test \n",
    "    stop_words.extend(('infj', 'entp', 'intp', 'intj', 'entj', 'enfj', 'infp', \n",
    "                   'enfp', 'isfp', 'istp', 'isfj', 'istj', 'estp', 'esfp', 'estj', 'esfj',\n",
    "                   'INFJ', 'ENTP', 'INTP', 'INTJ', 'ENTJ', 'ENFJ', 'INFP', 'ENFP','ISFP', \n",
    "                   'ISTP', 'ISFJ', 'ISTJ', 'ESTP', 'ESFP', 'ESTJ', 'ESFJ'))\n",
    "    stop_words=set(stop_words)\n",
    "    word_tokens=word_tokenize(prepocessed_text)\n",
    "    word_tokenized_preprocessed=[]\n",
    "\n",
    "    for token in word_tokens:\n",
    "        if token not in stop_words:\n",
    "            word_tokenized_preprocessed.append(token)\n",
    "    # converting list to string       \n",
    "    s=word_tokenized_preprocessed\n",
    "    converting_stopwords = ' '.join(map(str, s))\n",
    "    stop_words=[converting_stopwords]\n",
    "    \n",
    "    return stop_words"
   ]
  },
  {
   "cell_type": "code",
   "execution_count": 5,
   "metadata": {},
   "outputs": [],
   "source": [
    "def Lemmantization(prepocessed_words):\n",
    "    n=WordNetLemmatizer()\n",
    "    words_for_lemman=prepocessed_words\n",
    "    lemmantized_word=[n.lemmatize(w) for w in words_for_lemman]\n",
    "    # converting list to string\n",
    "    to_str=lemmantized_word\n",
    "    lemmantized_word=' '.join(map(str, to_str))\n",
    "    \n",
    "    return lemmantized_word"
   ]
  },
  {
   "cell_type": "code",
   "execution_count": 6,
   "metadata": {},
   "outputs": [],
   "source": [
    "# texts are preprocessed and stop words are removed\n",
    "dataframe['processed'] = dataframe['posts'].apply(prepocessing_regex)\n"
   ]
  },
  {
   "cell_type": "code",
   "execution_count": 7,
   "metadata": {},
   "outputs": [],
   "source": [
    "#applying lemmatization\n",
    "dataframe['lemmantized'] = dataframe['processed'].apply(Lemmantization)"
   ]
  },
  {
   "cell_type": "code",
   "execution_count": 8,
   "metadata": {},
   "outputs": [],
   "source": [
    "#consider clean data\n",
    "\n",
    "df = dataframe[['type', 'lemmantized']]"
   ]
  },
  {
   "cell_type": "code",
   "execution_count": 32,
   "metadata": {},
   "outputs": [],
   "source": [
    "vect=CountVectorizer(\n",
    "                             #analyzer = 'word',\n",
    "                             tokenizer=None, \n",
    "                             preprocessor = None, \n",
    "                             stop_words = None, \n",
    "                             #ngram_range=(1, 3), \n",
    "                             max_df=.8,\n",
    "                             min_df=3,                        \n",
    "                             max_features = 2000\n",
    "                            )"
   ]
  },
  {
   "cell_type": "code",
   "execution_count": 33,
   "metadata": {},
   "outputs": [],
   "source": [
    "X =  vect.fit_transform(df[\"lemmantized\"]) "
   ]
  },
  {
   "cell_type": "code",
   "execution_count": 34,
   "metadata": {},
   "outputs": [],
   "source": [
    "le = LabelEncoder()\n",
    "y = le.fit_transform(df[\"type\"])"
   ]
  },
  {
   "cell_type": "code",
   "execution_count": 35,
   "metadata": {},
   "outputs": [],
   "source": [
    "X_train, X_test, y_train, y_test = train_test_split(X, y, test_size=0.30, stratify=y, random_state=42)"
   ]
  },
  {
   "cell_type": "code",
   "execution_count": 13,
   "metadata": {},
   "outputs": [
    {
     "name": "stdout",
     "output_type": "stream",
     "text": [
      "Accuracy: 42.18%\n"
     ]
    }
   ],
   "source": [
    "from sklearn.linear_model import LogisticRegression\n",
    "from sklearn.naive_bayes import MultinomialNB\n",
    "from sklearn.svm import SVC\n",
    "from sklearn.ensemble import RandomForestClassifier\n",
    "from sklearn.tree import DecisionTreeClassifier\n",
    "from sklearn.metrics import precision_score, accuracy_score, recall_score, f1_score\n",
    "\n",
    "accuracy_scores = {}\n",
    "\n",
    "bayes = MultinomialNB()\n",
    "bayes.fit(X_train, y_train)\n",
    "y_pred = bayes.predict(X_test)\n",
    "\n",
    "acc = accuracy_score(y_test, y_pred)\n",
    "accuracy_scores['Naive Bayes'] = acc* 100.0 \n",
    "print(\"Accuracy: %.2f%%\" % (acc * 100.0))"
   ]
  },
  {
   "cell_type": "code",
   "execution_count": 14,
   "metadata": {},
   "outputs": [
    {
     "name": "stdout",
     "output_type": "stream",
     "text": [
      "Accuracy: 43.26%\n"
     ]
    }
   ],
   "source": [
    "lr = LogisticRegression()\n",
    "lr.fit(X_train, y_train)\n",
    "y_pred = lr.predict(X_test)\n",
    "\n",
    "acc = accuracy_score(y_test, y_pred)\n",
    "accuracy_scores['Logistic Regression'] = acc* 100.0 \n",
    "print(\"Accuracy: %.2f%%\" % (acc * 100.0))"
   ]
  },
  {
   "cell_type": "code",
   "execution_count": 15,
   "metadata": {},
   "outputs": [
    {
     "name": "stdout",
     "output_type": "stream",
     "text": [
      "Accuracy: 35.54%\n"
     ]
    }
   ],
   "source": [
    "dt = DecisionTreeClassifier(random_state=0)\n",
    "dt.fit(X_train, y_train)\n",
    "y_pred = dt.predict(X_test)\n",
    "\n",
    "acc = accuracy_score(y_test, y_pred)\n",
    "accuracy_scores['Decision Tree'] = acc* 100.0 \n",
    "print(\"Accuracy: %.2f%%\" % (acc * 100.0))"
   ]
  },
  {
   "cell_type": "code",
   "execution_count": 16,
   "metadata": {},
   "outputs": [
    {
     "name": "stdout",
     "output_type": "stream",
     "text": [
      "Accuracy: 43.53%\n"
     ]
    }
   ],
   "source": [
    "rf = RandomForestClassifier(n_estimators=100, random_state = 1)\n",
    "rf.fit(X_train, y_train)\n",
    "y_pred = rf.predict(X_test)\n",
    "\n",
    "acc = accuracy_score(y_test, y_pred)\n",
    "accuracy_scores['Random Forest'] = acc* 100.0 \n",
    "print(\"Accuracy: %.2f%%\" % (acc * 100.0))"
   ]
  },
  {
   "cell_type": "code",
   "execution_count": 17,
   "metadata": {},
   "outputs": [
    {
     "name": "stdout",
     "output_type": "stream",
     "text": [
      "Accuracy: 44.99%\n"
     ]
    }
   ],
   "source": [
    "#training time is more\n",
    "\n",
    "svm = SVC(random_state = 1)\n",
    "svm.fit(X_train, y_train)\n",
    "y_pred = svm.predict(X_test)\n",
    "\n",
    "acc = accuracy_score(y_test, y_pred)\n",
    "accuracy_scores['SVM'] = acc*100.0\n",
    "print(\"Accuracy: %.2f%%\" % (acc * 100.0))"
   ]
  },
  {
   "cell_type": "code",
   "execution_count": 18,
   "metadata": {},
   "outputs": [
    {
     "data": {
      "text/html": [
       "<div>\n",
       "<style scoped>\n",
       "    .dataframe tbody tr th:only-of-type {\n",
       "        vertical-align: middle;\n",
       "    }\n",
       "\n",
       "    .dataframe tbody tr th {\n",
       "        vertical-align: top;\n",
       "    }\n",
       "\n",
       "    .dataframe thead th {\n",
       "        text-align: right;\n",
       "    }\n",
       "</style>\n",
       "<table border=\"1\" class=\"dataframe\">\n",
       "  <thead>\n",
       "    <tr style=\"text-align: right;\">\n",
       "      <th></th>\n",
       "      <th>accuracy_scores(%)</th>\n",
       "    </tr>\n",
       "  </thead>\n",
       "  <tbody>\n",
       "    <tr>\n",
       "      <th>Naive Bayes</th>\n",
       "      <td>42.182098</td>\n",
       "    </tr>\n",
       "    <tr>\n",
       "      <th>Logistic Regression</th>\n",
       "      <td>43.257779</td>\n",
       "    </tr>\n",
       "    <tr>\n",
       "      <th>Decision Tree</th>\n",
       "      <td>35.535920</td>\n",
       "    </tr>\n",
       "    <tr>\n",
       "      <th>Random Forest</th>\n",
       "      <td>43.526700</td>\n",
       "    </tr>\n",
       "    <tr>\n",
       "      <th>SVM</th>\n",
       "      <td>44.986554</td>\n",
       "    </tr>\n",
       "  </tbody>\n",
       "</table>\n",
       "</div>"
      ],
      "text/plain": [
       "                     accuracy_scores(%)\n",
       "Naive Bayes                   42.182098\n",
       "Logistic Regression           43.257779\n",
       "Decision Tree                 35.535920\n",
       "Random Forest                 43.526700\n",
       "SVM                           44.986554"
      ]
     },
     "execution_count": 18,
     "metadata": {},
     "output_type": "execute_result"
    }
   ],
   "source": [
    "pd.DataFrame.from_dict(accuracy_scores, orient='index', columns=['accuracy_scores(%)'])"
   ]
  },
  {
   "cell_type": "code",
   "execution_count": 36,
   "metadata": {},
   "outputs": [
    {
     "data": {
      "text/html": [
       "<div>\n",
       "<style scoped>\n",
       "    .dataframe tbody tr th:only-of-type {\n",
       "        vertical-align: middle;\n",
       "    }\n",
       "\n",
       "    .dataframe tbody tr th {\n",
       "        vertical-align: top;\n",
       "    }\n",
       "\n",
       "    .dataframe thead th {\n",
       "        text-align: right;\n",
       "    }\n",
       "</style>\n",
       "<table border=\"1\" class=\"dataframe\">\n",
       "  <thead>\n",
       "    <tr style=\"text-align: right;\">\n",
       "      <th></th>\n",
       "      <th>type</th>\n",
       "      <th>posts</th>\n",
       "      <th>processed</th>\n",
       "      <th>lemmantized</th>\n",
       "      <th>ie</th>\n",
       "      <th>ns</th>\n",
       "      <th>ft</th>\n",
       "      <th>pj</th>\n",
       "    </tr>\n",
       "  </thead>\n",
       "  <tbody>\n",
       "    <tr>\n",
       "      <th>0</th>\n",
       "      <td>INFJ</td>\n",
       "      <td>'http://www.youtube.com/watch?v=qsXHcwe3krw|||...</td>\n",
       "      <td>[moments sportscenter top ten plays prankswhat...</td>\n",
       "      <td>moments sportscenter top ten plays prankswhat ...</td>\n",
       "      <td>INFJ</td>\n",
       "      <td>INFJ</td>\n",
       "      <td>INFJ</td>\n",
       "      <td>INFJ</td>\n",
       "    </tr>\n",
       "    <tr>\n",
       "      <th>1</th>\n",
       "      <td>ENTP</td>\n",
       "      <td>'I'm finding the lack of me in these posts ver...</td>\n",
       "      <td>[im finding lack posts alarmingsex boring posi...</td>\n",
       "      <td>im finding lack posts alarmingsex boring posit...</td>\n",
       "      <td>ENTP</td>\n",
       "      <td>ENTP</td>\n",
       "      <td>ENTP</td>\n",
       "      <td>ENTP</td>\n",
       "    </tr>\n",
       "    <tr>\n",
       "      <th>2</th>\n",
       "      <td>INTP</td>\n",
       "      <td>'Good one  _____   https://www.youtube.com/wat...</td>\n",
       "      <td>[good one course say know thats blessing curse...</td>\n",
       "      <td>good one course say know thats blessing cursed...</td>\n",
       "      <td>INTP</td>\n",
       "      <td>INTP</td>\n",
       "      <td>INTP</td>\n",
       "      <td>INTP</td>\n",
       "    </tr>\n",
       "    <tr>\n",
       "      <th>3</th>\n",
       "      <td>INTJ</td>\n",
       "      <td>'Dear INTP,   I enjoyed our conversation the o...</td>\n",
       "      <td>[dear enjoyed conversation day esoteric gabbin...</td>\n",
       "      <td>dear enjoyed conversation day esoteric gabbing...</td>\n",
       "      <td>INTJ</td>\n",
       "      <td>INTJ</td>\n",
       "      <td>INTJ</td>\n",
       "      <td>INTJ</td>\n",
       "    </tr>\n",
       "    <tr>\n",
       "      <th>4</th>\n",
       "      <td>ENTJ</td>\n",
       "      <td>'You're fired.|||That's another silly misconce...</td>\n",
       "      <td>[youre firedthats another silly misconception ...</td>\n",
       "      <td>youre firedthats another silly misconception a...</td>\n",
       "      <td>ENTJ</td>\n",
       "      <td>ENTJ</td>\n",
       "      <td>ENTJ</td>\n",
       "      <td>ENTJ</td>\n",
       "    </tr>\n",
       "  </tbody>\n",
       "</table>\n",
       "</div>"
      ],
      "text/plain": [
       "   type                                              posts  \\\n",
       "0  INFJ  'http://www.youtube.com/watch?v=qsXHcwe3krw|||...   \n",
       "1  ENTP  'I'm finding the lack of me in these posts ver...   \n",
       "2  INTP  'Good one  _____   https://www.youtube.com/wat...   \n",
       "3  INTJ  'Dear INTP,   I enjoyed our conversation the o...   \n",
       "4  ENTJ  'You're fired.|||That's another silly misconce...   \n",
       "\n",
       "                                           processed  \\\n",
       "0  [moments sportscenter top ten plays prankswhat...   \n",
       "1  [im finding lack posts alarmingsex boring posi...   \n",
       "2  [good one course say know thats blessing curse...   \n",
       "3  [dear enjoyed conversation day esoteric gabbin...   \n",
       "4  [youre firedthats another silly misconception ...   \n",
       "\n",
       "                                         lemmantized    ie    ns    ft    pj  \n",
       "0  moments sportscenter top ten plays prankswhat ...  INFJ  INFJ  INFJ  INFJ  \n",
       "1  im finding lack posts alarmingsex boring posit...  ENTP  ENTP  ENTP  ENTP  \n",
       "2  good one course say know thats blessing cursed...  INTP  INTP  INTP  INTP  \n",
       "3  dear enjoyed conversation day esoteric gabbing...  INTJ  INTJ  INTJ  INTJ  \n",
       "4  youre firedthats another silly misconception a...  ENTJ  ENTJ  ENTJ  ENTJ  "
      ]
     },
     "execution_count": 36,
     "metadata": {},
     "output_type": "execute_result"
    }
   ],
   "source": [
    "dataframe['ie'] = dataframe.type\n",
    "dataframe['ns'] = dataframe.type\n",
    "dataframe['ft'] = dataframe.type\n",
    "dataframe['pj'] = dataframe.type\n",
    "\n",
    "dataframe.head()"
   ]
  },
  {
   "cell_type": "code",
   "execution_count": 37,
   "metadata": {},
   "outputs": [
    {
     "data": {
      "text/html": [
       "<div>\n",
       "<style scoped>\n",
       "    .dataframe tbody tr th:only-of-type {\n",
       "        vertical-align: middle;\n",
       "    }\n",
       "\n",
       "    .dataframe tbody tr th {\n",
       "        vertical-align: top;\n",
       "    }\n",
       "\n",
       "    .dataframe thead th {\n",
       "        text-align: right;\n",
       "    }\n",
       "</style>\n",
       "<table border=\"1\" class=\"dataframe\">\n",
       "  <thead>\n",
       "    <tr style=\"text-align: right;\">\n",
       "      <th></th>\n",
       "      <th>type</th>\n",
       "      <th>posts</th>\n",
       "      <th>processed</th>\n",
       "      <th>lemmantized</th>\n",
       "      <th>ie</th>\n",
       "      <th>ns</th>\n",
       "      <th>ft</th>\n",
       "      <th>pj</th>\n",
       "    </tr>\n",
       "  </thead>\n",
       "  <tbody>\n",
       "    <tr>\n",
       "      <th>0</th>\n",
       "      <td>INFJ</td>\n",
       "      <td>'http://www.youtube.com/watch?v=qsXHcwe3krw|||...</td>\n",
       "      <td>[moments sportscenter top ten plays prankswhat...</td>\n",
       "      <td>moments sportscenter top ten plays prankswhat ...</td>\n",
       "      <td>I</td>\n",
       "      <td>N</td>\n",
       "      <td>F</td>\n",
       "      <td>J</td>\n",
       "    </tr>\n",
       "    <tr>\n",
       "      <th>1</th>\n",
       "      <td>ENTP</td>\n",
       "      <td>'I'm finding the lack of me in these posts ver...</td>\n",
       "      <td>[im finding lack posts alarmingsex boring posi...</td>\n",
       "      <td>im finding lack posts alarmingsex boring posit...</td>\n",
       "      <td>E</td>\n",
       "      <td>N</td>\n",
       "      <td>T</td>\n",
       "      <td>P</td>\n",
       "    </tr>\n",
       "    <tr>\n",
       "      <th>2</th>\n",
       "      <td>INTP</td>\n",
       "      <td>'Good one  _____   https://www.youtube.com/wat...</td>\n",
       "      <td>[good one course say know thats blessing curse...</td>\n",
       "      <td>good one course say know thats blessing cursed...</td>\n",
       "      <td>I</td>\n",
       "      <td>N</td>\n",
       "      <td>T</td>\n",
       "      <td>P</td>\n",
       "    </tr>\n",
       "    <tr>\n",
       "      <th>3</th>\n",
       "      <td>INTJ</td>\n",
       "      <td>'Dear INTP,   I enjoyed our conversation the o...</td>\n",
       "      <td>[dear enjoyed conversation day esoteric gabbin...</td>\n",
       "      <td>dear enjoyed conversation day esoteric gabbing...</td>\n",
       "      <td>I</td>\n",
       "      <td>N</td>\n",
       "      <td>T</td>\n",
       "      <td>J</td>\n",
       "    </tr>\n",
       "    <tr>\n",
       "      <th>4</th>\n",
       "      <td>ENTJ</td>\n",
       "      <td>'You're fired.|||That's another silly misconce...</td>\n",
       "      <td>[youre firedthats another silly misconception ...</td>\n",
       "      <td>youre firedthats another silly misconception a...</td>\n",
       "      <td>E</td>\n",
       "      <td>N</td>\n",
       "      <td>T</td>\n",
       "      <td>J</td>\n",
       "    </tr>\n",
       "  </tbody>\n",
       "</table>\n",
       "</div>"
      ],
      "text/plain": [
       "   type                                              posts  \\\n",
       "0  INFJ  'http://www.youtube.com/watch?v=qsXHcwe3krw|||...   \n",
       "1  ENTP  'I'm finding the lack of me in these posts ver...   \n",
       "2  INTP  'Good one  _____   https://www.youtube.com/wat...   \n",
       "3  INTJ  'Dear INTP,   I enjoyed our conversation the o...   \n",
       "4  ENTJ  'You're fired.|||That's another silly misconce...   \n",
       "\n",
       "                                           processed  \\\n",
       "0  [moments sportscenter top ten plays prankswhat...   \n",
       "1  [im finding lack posts alarmingsex boring posi...   \n",
       "2  [good one course say know thats blessing curse...   \n",
       "3  [dear enjoyed conversation day esoteric gabbin...   \n",
       "4  [youre firedthats another silly misconception ...   \n",
       "\n",
       "                                         lemmantized ie ns ft pj  \n",
       "0  moments sportscenter top ten plays prankswhat ...  I  N  F  J  \n",
       "1  im finding lack posts alarmingsex boring posit...  E  N  T  P  \n",
       "2  good one course say know thats blessing cursed...  I  N  T  P  \n",
       "3  dear enjoyed conversation day esoteric gabbing...  I  N  T  J  \n",
       "4  youre firedthats another silly misconception a...  E  N  T  J  "
      ]
     },
     "execution_count": 37,
     "metadata": {},
     "output_type": "execute_result"
    }
   ],
   "source": [
    "#splitting data for each personality type\n",
    "\n",
    "for i, t in enumerate(dataframe.type):\n",
    "    if 'I' in t:\n",
    "        dataframe.ie[i] = 'I'\n",
    "    elif 'E' in t:\n",
    "        dataframe.ie[i] = 'E'\n",
    "        \n",
    "    if 'N' in t:\n",
    "        dataframe.ns[i] = 'N'\n",
    "    elif 'S' in t:\n",
    "        dataframe.ns[i] = 'S'\n",
    "        \n",
    "    if 'F' in t:\n",
    "        dataframe.ft[i] = 'F'\n",
    "    elif 'T' in t:\n",
    "        dataframe.ft[i] = 'T'\n",
    "        \n",
    "    if 'P' in t:\n",
    "        dataframe.pj[i] = 'P'\n",
    "    elif 'J' in t:\n",
    "        dataframe.pj[i] = 'J'\n",
    "\n",
    "\n",
    "dataframe.head()"
   ]
  },
  {
   "cell_type": "code",
   "execution_count": 38,
   "metadata": {},
   "outputs": [],
   "source": [
    "posts_1 = dataframe.posts.values\n",
    "y_IE = dataframe.ie.values\n",
    "y_NS = dataframe.ns.values\n",
    "y_FT = dataframe.ft.values\n",
    "y_PJ = dataframe.pj.values\n",
    "y_1 = dataframe.type"
   ]
  },
  {
   "cell_type": "code",
   "execution_count": 39,
   "metadata": {},
   "outputs": [],
   "source": [
    "X_1 =  vect.fit_transform(dataframe[\"lemmantized\"]) "
   ]
  },
  {
   "cell_type": "code",
   "execution_count": 40,
   "metadata": {},
   "outputs": [],
   "source": [
    "#split data for splitted personality type\n",
    "\n",
    "xIETrain, xIETest, yIETrain, yIETest = train_test_split(X_1, y_IE, test_size=0.30, stratify=y_IE, random_state=42)\n",
    "xNSTrain, xNSTest, yNSTrain, yNSTest = train_test_split(X_1, y_NS, test_size=0.30, stratify=y_NS, random_state=42)\n",
    "xFTTrain, xFTTest, yFTTrain, yFTTest = train_test_split(X_1, y_FT, test_size=0.30, stratify=y_FT, random_state=42)\n",
    "xPJTrain, xPJTest, yPJTrain, yPJTest = train_test_split(X_1, y_PJ, test_size=0.30, stratify=y_PJ, random_state=42)"
   ]
  },
  {
   "cell_type": "code",
   "execution_count": 23,
   "metadata": {},
   "outputs": [
    {
     "name": "stdout",
     "output_type": "stream",
     "text": [
      "INFP    1832\n",
      "INFJ    1470\n",
      "INTP    1304\n",
      "INTJ    1091\n",
      "ENTP     685\n",
      "ENFP     675\n",
      "ISTP     337\n",
      "ISFP     271\n",
      "ENTJ     231\n",
      "ISTJ     205\n",
      "ENFJ     190\n",
      "ISFJ     166\n",
      "ESTP      89\n",
      "ESFP      48\n",
      "ESFJ      42\n",
      "ESTJ      39\n",
      "Name: type, dtype: int64\n"
     ]
    },
    {
     "data": {
      "image/png": "[encoded data removed]",
      "text/plain": [
       "<Figure size 432x288 with 1 Axes>"
      ]
     },
     "metadata": {
      "needs_background": "light"
     },
     "output_type": "display_data"
    }
   ],
   "source": [
    "'''In cell below we can see that there is great unbalance in Introvert/Extrovert and Intuition/Sensing pairs. \n",
    "Whereas Feeling/Thinking and Perception/Judgment pairs are quite balanced.\n",
    "Although we have created trained models for each pair. Only last 2 pairs are somewhat reliable in predicting MBTI type.\n",
    "So it is not advised to depend on first 2 pairs i.e. IE and NS pairs. \n",
    "'''\n",
    "\n",
    "print(dataframe.type.value_counts())\n",
    "dataframe.type.hist(xrot=90)\n",
    "plt.show()"
   ]
  },
  {
   "cell_type": "code",
   "execution_count": 24,
   "metadata": {},
   "outputs": [
    {
     "name": "stdout",
     "output_type": "stream",
     "text": [
      "I    6676\n",
      "E    1999\n",
      "Name: ie, dtype: int64\n",
      "\n",
      "N    7478\n",
      "S    1197\n",
      "Name: ns, dtype: int64\n",
      "\n",
      "F    4694\n",
      "T    3981\n",
      "Name: ft, dtype: int64\n",
      "\n",
      "P    5241\n",
      "J    3434\n",
      "Name: pj, dtype: int64\n",
      "\n"
     ]
    },
    {
     "data": {
      "image/png": "[encoded data removed]",
      "text/plain": [
       "<Figure size 432x288 with 1 Axes>"
      ]
     },
     "metadata": {
      "needs_background": "light"
     },
     "output_type": "display_data"
    },
    {
     "data": {
      "image/png": "[encoded data removed]",
      "text/plain": [
       "<Figure size 432x288 with 1 Axes>"
      ]
     },
     "metadata": {
      "needs_background": "light"
     },
     "output_type": "display_data"
    },
    {
     "data": {
      "image/png": "[encoded data removed]",
      "text/plain": [
       "<Figure size 432x288 with 1 Axes>"
      ]
     },
     "metadata": {
      "needs_background": "light"
     },
     "output_type": "display_data"
    },
    {
     "data": {
      "image/png": "[encoded data removed]",
      "text/plain": [
       "<Figure size 432x288 with 1 Axes>"
      ]
     },
     "metadata": {
      "needs_background": "light"
     },
     "output_type": "display_data"
    }
   ],
   "source": [
    "print(dataframe.ie.value_counts(), end='\\n\\n')\n",
    "print(dataframe.ns.value_counts(), end='\\n\\n')\n",
    "print(dataframe.ft.value_counts(), end='\\n\\n')\n",
    "print(dataframe.pj.value_counts(), end='\\n\\n')\n",
    "\n",
    "dataframe.ie.hist()\n",
    "plt.show()\n",
    "dataframe.ns.hist()\n",
    "plt.show()\n",
    "dataframe.ft.hist()\n",
    "plt.show()\n",
    "dataframe.pj.hist()\n",
    "plt.show()"
   ]
  },
  {
   "cell_type": "code",
   "execution_count": 26,
   "metadata": {},
   "outputs": [],
   "source": [
    "#training method to fit model\n",
    "def train_model(model, X_train, y_train):\n",
    "\n",
    "    return model.fit(X_train, y_train)"
   ]
  },
  {
   "cell_type": "code",
   "execution_count": 25,
   "metadata": {},
   "outputs": [],
   "source": [
    "#del acc"
   ]
  },
  {
   "cell_type": "code",
   "execution_count": 27,
   "metadata": {},
   "outputs": [],
   "source": [
    "# calculate accuracy to each model\n",
    "acc = {}\n",
    "\n",
    "def accuracy(model, y_test, y_predict):\n",
    "    \n",
    "    acc[model] = accuracy_score(y_test,y_predict)"
   ]
  },
  {
   "cell_type": "code",
   "execution_count": 28,
   "metadata": {},
   "outputs": [],
   "source": [
    "# predict accuracy for each model\n",
    "\n",
    "def predict_value(trained_model, X_test):\n",
    "    \n",
    "    return trained_model.predict(X_test)"
   ]
  },
  {
   "cell_type": "code",
   "execution_count": 29,
   "metadata": {},
   "outputs": [],
   "source": [
    "# save pickle file\n",
    "def pickle_file(filename, trained_model):\n",
    "    \n",
    "    pickle.dump(trained_model, open(filename, 'wb'))"
   ]
  },
  {
   "cell_type": "code",
   "execution_count": 41,
   "metadata": {},
   "outputs": [],
   "source": [
    "#apply logistic regression\n",
    "lr = LogisticRegression()\n",
    "\n",
    "IE_model_1 = train_model(lr, xIETrain, yIETrain)\n",
    "#save pickle file \n",
    "filename='IE_model_1.pkl'\n",
    "pickle_file(filename, IE_model_1)\n",
    "#predict values\n",
    "y_prediction_IE_1 = predict_value(IE_model_1, xIETest)\n",
    "accuracy('LogisticRegression_IE', yIETest, y_prediction_IE_1)\n",
    "\n",
    "\n",
    "NS_model_1 = train_model(lr, xNSTrain, yNSTrain)\n",
    "#save pickle file \n",
    "filename='NS_model_1.pkl'\n",
    "pickle_file(filename, NS_model_1)\n",
    "#predict values\n",
    "y_prediction_NS_1 = predict_value(NS_model_1, xNSTest)\n",
    "accuracy('LogisticRegression_NS', yNSTest, y_prediction_NS_1)\n",
    "\n",
    "\n",
    "FT_model_1 = train_model(lr, xFTTrain, yFTTrain)\n",
    "#save pickle file \n",
    "filename='FT_model_1.pkl'\n",
    "pickle_file(filename, FT_model_1)\n",
    "#predict values\n",
    "y_prediction_FT_1 = predict_value(FT_model_1, xFTTest)\n",
    "accuracy('LogisticRegression_FT', yFTTest, y_prediction_FT_1)\n",
    "\n",
    "\n",
    "JP_model_1 = train_model(lr, xPJTrain, yPJTrain)\n",
    "#save pickle file \n",
    "filename='JP_model_1.pkl'\n",
    "pickle_file(filename, JP_model_1)\n",
    "#predict values\n",
    "y_prediction_JP_1 = predict_value(JP_model_1, xPJTest)\n",
    "accuracy('LogisticRegression_JP', yPJTest, y_prediction_JP_1)\n"
   ]
  },
  {
   "cell_type": "code",
   "execution_count": 30,
   "metadata": {},
   "outputs": [],
   "source": [
    "#apply Naive bayes \n",
    "nby = MultinomialNB()\n",
    "\n",
    "IE_model_2 = train_model(nby, xIETrain, yIETrain)\n",
    "y_prediction_IE_2 = predict_value(IE_model_2, xIETest)\n",
    "accuracy('Naive_Bayes_IE', yIETest, y_prediction_IE_2)\n",
    "\n",
    "NS_model_2 = train_model(nby, xNSTrain, yNSTrain)\n",
    "y_prediction_NS_2 = predict_value(NS_model_2, xNSTest)\n",
    "accuracy('Naive_Bayes_NS', yNSTest, y_prediction_NS_2)\n",
    "\n",
    "\n",
    "FT_model_2 = train_model(nby, xFTTrain, yFTTrain)\n",
    "y_prediction_FT_2 = predict_value(FT_model_2, xFTTest)\n",
    "accuracy('Naive_Bayes_FT', yFTTest, y_prediction_FT_2)\n",
    "\n",
    "JP_model_2 = train_model(nby, xPJTrain, yPJTrain)\n",
    "y_prediction_JP_2 = predict_value(JP_model_2, xPJTest)\n",
    "accuracy('Naive_Bayes_JP', yPJTest, y_prediction_JP_2)\n"
   ]
  },
  {
   "cell_type": "code",
   "execution_count": 31,
   "metadata": {},
   "outputs": [],
   "source": [
    "# apply decision tree \n",
    "dtree = DecisionTreeClassifier(random_state=0)\n",
    "\n",
    "IE_model_3 = train_model(dtree, xIETrain, yIETrain)\n",
    "y_prediction_IE_3 = predict_value(IE_model_3, xIETest)\n",
    "accuracy('Decision_Tree_IE', yIETest, y_prediction_IE_3)\n",
    "\n",
    "NS_model_3 = train_model(dtree, xNSTrain, yNSTrain)\n",
    "y_prediction_NS_3 = predict_value(NS_model_3, xNSTest)\n",
    "accuracy('Decision_Tree_NS', yNSTest, y_prediction_NS_3)\n",
    "\n",
    "FT_model_3 = train_model(dtree, xFTTrain, yFTTrain)\n",
    "y_prediction_FT_3 = predict_value(FT_model_3, xFTTest)\n",
    "accuracy('Decision_Tree_FT', yFTTest, y_prediction_FT_3)\n",
    "\n",
    "JP_model_3 = train_model(dtree, xPJTrain, yPJTrain)\n",
    "y_prediction_JP_3 = predict_value(JP_model_3, xPJTest)\n",
    "accuracy('Decision_Tree_JP', yPJTest, y_prediction_JP_3)\n"
   ]
  },
  {
   "cell_type": "code",
   "execution_count": 32,
   "metadata": {},
   "outputs": [],
   "source": [
    "# apply random forest\n",
    "rftree = RandomForestClassifier(n_estimators=100, random_state = 1)\n",
    "\n",
    "IE_model_4 = train_model(rftree, xIETrain, yIETrain)\n",
    "y_prediction_IE_4 = predict_value(IE_model_4, xIETest)\n",
    "accuracy('Random_Forest_IE', yIETest, y_prediction_IE_4)\n",
    "\n",
    "NS_model_4 = train_model(rftree, xNSTrain, yNSTrain)\n",
    "y_prediction_NS_4 = predict_value(NS_model_4, xNSTest)\n",
    "accuracy('Random_Forest_NS', yNSTest, y_prediction_NS_4)\n",
    "\n",
    "FT_model_4 = train_model(rftree, xFTTrain, yFTTrain)\n",
    "y_prediction_FT_4 = predict_value(FT_model_4, xFTTest)\n",
    "accuracy('Random_Forest_FT', yFTTest, y_prediction_FT_4)\n",
    "\n",
    "JP_model_4 = train_model(rftree, xPJTrain, yPJTrain)\n",
    "y_prediction_JP_4 = predict_value(JP_model_4, xPJTest)\n",
    "accuracy('Random_Forest_JP', yPJTest, y_prediction_JP_4)\n"
   ]
  },
  {
   "cell_type": "code",
   "execution_count": 31,
   "metadata": {},
   "outputs": [],
   "source": [
    "# apply support vector machine\n",
    "\n",
    "svm_1 = SVC(random_state = 1)\n",
    "\n",
    "IE_model_5 = train_model(svm_1, xIETrain, yIETrain)\n",
    "#save pickle file \n",
    "filename='IE_model_5.pkl'\n",
    "pickle_file(filename, IE_model_5)\n",
    "#predict values\n",
    "y_prediction_IE_5 = predict_value(IE_model_5, xIETest)\n",
    "accuracy('SVM_IE', yIETest, y_prediction_IE_5)\n",
    "\n",
    "NS_model_5 = train_model(svm_1, xNSTrain, yNSTrain)\n",
    "#save pickle file \n",
    "filename='NS_model_5.pkl'\n",
    "pickle_file(filename, NS_model_5)\n",
    "#predict values\n",
    "y_prediction_NS_5 = predict_value(NS_model_5, xNSTest)\n",
    "accuracy('SVM_NS', yNSTest, y_prediction_NS_5)\n",
    "\n",
    "\n",
    "FT_model_5 = train_model(svm_1, xFTTrain, yFTTrain)\n",
    "#save pickle file \n",
    "filename='FT_model_5.pkl'\n",
    "pickle_file(filename, FT_model_5)\n",
    "#predict values\n",
    "y_prediction_FT_5 = predict_value(FT_model_5, xFTTest)\n",
    "accuracy('SVM_FT', yFTTest, y_prediction_FT_5)\n",
    "\n",
    "\n",
    "JP_model_5 = train_model(svm_1, xPJTrain, yPJTrain)\n",
    "#save pickle file \n",
    "filename='JP_model_5.pkl'\n",
    "pickle_file(filename, JP_model_5)\n",
    "#predict values\n",
    "y_prediction_JP_5 = predict_value(JP_model_5, xPJTest)\n",
    "accuracy('SVM_JP', yPJTest, y_prediction_JP_5)"
   ]
  },
  {
   "cell_type": "code",
   "execution_count": 34,
   "metadata": {},
   "outputs": [
    {
     "name": "stdout",
     "output_type": "stream",
     "text": [
      "LogisticRegression_IE : 0.75\n",
      "LogisticRegression_NS : 0.83\n",
      "LogisticRegression_FT : 0.74\n",
      "LogisticRegression_JP : 0.68\n",
      "Naive_Bayes_IE : 0.75\n",
      "Naive_Bayes_NS : 0.82\n",
      "Naive_Bayes_FT : 0.79\n",
      "Naive_Bayes_JP : 0.69\n",
      "Decision_Tree_IE : 0.71\n",
      "Decision_Tree_NS : 0.80\n",
      "Decision_Tree_FT : 0.63\n",
      "Decision_Tree_JP : 0.64\n",
      "Random_Forest_IE : 0.77\n",
      "Random_Forest_NS : 0.86\n",
      "Random_Forest_FT : 0.74\n",
      "Random_Forest_JP : 0.68\n",
      "SVM_IE : 0.80\n",
      "SVM_NS : 0.86\n",
      "SVM_FT : 0.79\n",
      "SVM_JP : 0.73\n"
     ]
    }
   ],
   "source": [
    "#print accuracy for each model\n",
    "\n",
    "for key, value in acc.items():\n",
    "    print(f\"{key} : {value:.2f}\")"
   ]
  },
  {
   "cell_type": "code",
   "execution_count": 68,
   "metadata": {},
   "outputs": [
    {
     "name": "stdout",
     "output_type": "stream",
     "text": [
      "MINORITY CLASSES:\n",
      "0.49166666666666664\n",
      "0.3871866295264624\n",
      "0.7263598326359832\n",
      "0.5728155339805825\n",
      "\n",
      "MAJORITY CLASSES:\n",
      "0.8242636045931103\n",
      "0.9032976827094474\n",
      "0.7464488636363636\n",
      "0.7431659249841068\n"
     ]
    }
   ],
   "source": [
    "#applying other evaluation metrics \n",
    "\n",
    "from sklearn.metrics import classification_report, recall_score\n",
    "\n",
    "#minority classes using logistic regression \n",
    "print('MINORITY CLASSES:')\n",
    "print(recall_score(yIETest, y_prediction_IE_1, pos_label='E'))\n",
    "print(recall_score(yNSTest, y_prediction_NS_1, pos_label='S'))\n",
    "print(recall_score(yFTTest, y_prediction_FT_1, pos_label='T'))\n",
    "print(recall_score(yPJTest, y_prediction_JP_1, pos_label='J'), end='\\n\\n')\n",
    "\n",
    "# majority classes using logistic regression \n",
    "print('MAJORITY CLASSES:')\n",
    "print(recall_score(yIETest, y_prediction_IE_1, pos_label='I'))\n",
    "print(recall_score(yNSTest, y_prediction_NS_1, pos_label='N'))\n",
    "print(recall_score(yFTTest, y_prediction_FT_1, pos_label='F'))\n",
    "print(recall_score(yPJTest, y_prediction_JP_1, pos_label='P'))"
   ]
  },
  {
   "cell_type": "code",
   "execution_count": 69,
   "metadata": {},
   "outputs": [
    {
     "name": "stdout",
     "output_type": "stream",
     "text": [
      "MINORITY CLASSES:\n",
      "0.5433333333333333\n",
      "0.5515320334261838\n",
      "0.7882845188284519\n",
      "0.6048543689320388\n",
      "\n",
      "MAJORITY CLASSES:\n",
      "0.8122815776335497\n",
      "0.8618538324420677\n",
      "0.7947443181818182\n",
      "0.7488874761602035\n"
     ]
    }
   ],
   "source": [
    "#minority classes using Naive bayes\n",
    "print('MINORITY CLASSES:')\n",
    "print(recall_score(yIETest, y_prediction_IE_2, pos_label='E'))\n",
    "print(recall_score(yNSTest, y_prediction_NS_2, pos_label='S'))\n",
    "print(recall_score(yFTTest, y_prediction_FT_2, pos_label='T'))\n",
    "print(recall_score(yPJTest, y_prediction_JP_2, pos_label='J'), end='\\n\\n')\n",
    "\n",
    "# majority classes using Naive bayes\n",
    "print('MAJORITY CLASSES:')\n",
    "print(recall_score(yIETest, y_prediction_IE_2, pos_label='I'))\n",
    "print(recall_score(yNSTest, y_prediction_NS_2, pos_label='N'))\n",
    "print(recall_score(yFTTest, y_prediction_FT_2, pos_label='F'))\n",
    "print(recall_score(yPJTest, y_prediction_JP_2, pos_label='P'))"
   ]
  },
  {
   "cell_type": "code",
   "execution_count": 70,
   "metadata": {},
   "outputs": [
    {
     "name": "stdout",
     "output_type": "stream",
     "text": [
      "MINORITY CLASSES:\n",
      "0.405\n",
      "0.3008356545961003\n",
      "0.601673640167364\n",
      "0.5339805825242718\n",
      "\n",
      "MAJORITY CLASSES:\n",
      "0.8042935596605092\n",
      "0.8810160427807486\n",
      "0.6569602272727273\n",
      "0.7132867132867133\n"
     ]
    }
   ],
   "source": [
    "#minority classes using Decision Tree\n",
    "print('MINORITY CLASSES:')\n",
    "print(recall_score(yIETest, y_prediction_IE_3, pos_label='E'))\n",
    "print(recall_score(yNSTest, y_prediction_NS_3, pos_label='S'))\n",
    "print(recall_score(yFTTest, y_prediction_FT_3, pos_label='T'))\n",
    "print(recall_score(yPJTest, y_prediction_JP_3, pos_label='J'), end='\\n\\n')\n",
    "\n",
    "# majority classes using Decision Tree\n",
    "print('MAJORITY CLASSES:')\n",
    "print(recall_score(yIETest, y_prediction_IE_3, pos_label='I'))\n",
    "print(recall_score(yNSTest, y_prediction_NS_3, pos_label='N'))\n",
    "print(recall_score(yFTTest, y_prediction_FT_3, pos_label='F'))\n",
    "print(recall_score(yPJTest, y_prediction_JP_3, pos_label='P'))"
   ]
  },
  {
   "cell_type": "code",
   "execution_count": 71,
   "metadata": {},
   "outputs": [
    {
     "name": "stdout",
     "output_type": "stream",
     "text": [
      "MINORITY CLASSES:\n",
      "0.005\n",
      "0.0\n",
      "0.6142259414225941\n",
      "0.2621359223300971\n",
      "\n",
      "MAJORITY CLASSES:\n",
      "0.9995007488766849\n",
      "1.0\n",
      "0.8544034090909091\n",
      "0.9459631277813096\n"
     ]
    }
   ],
   "source": [
    "#minority classes using Random Forest\n",
    "print('MINORITY CLASSES:')\n",
    "print(recall_score(yIETest, y_prediction_IE_4, pos_label='E'))\n",
    "print(recall_score(yNSTest, y_prediction_NS_4, pos_label='S'))\n",
    "print(recall_score(yFTTest, y_prediction_FT_4, pos_label='T'))\n",
    "print(recall_score(yPJTest, y_prediction_JP_4, pos_label='J'), end='\\n\\n')\n",
    "\n",
    "# majority classes using Random Forest\n",
    "print('MAJORITY CLASSES:')\n",
    "print(recall_score(yIETest, y_prediction_IE_4, pos_label='I'))\n",
    "print(recall_score(yNSTest, y_prediction_NS_4, pos_label='N'))\n",
    "print(recall_score(yFTTest, y_prediction_FT_4, pos_label='F'))\n",
    "print(recall_score(yPJTest, y_prediction_JP_4, pos_label='P'))"
   ]
  },
  {
   "cell_type": "code",
   "execution_count": 72,
   "metadata": {},
   "outputs": [
    {
     "name": "stdout",
     "output_type": "stream",
     "text": [
      "MINORITY CLASSES:\n",
      "0.17833333333333334\n",
      "0.0\n",
      "0.7740585774058577\n",
      "0.45436893203883494\n",
      "\n",
      "MAJORITY CLASSES:\n",
      "0.9850224663005491\n",
      "0.999554367201426\n",
      "0.8096590909090909\n",
      "0.9097266369993643\n"
     ]
    }
   ],
   "source": [
    "#minority classes using SVM\n",
    "print('MINORITY CLASSES:')\n",
    "print(recall_score(yIETest, y_prediction_IE_5, pos_label='E'))\n",
    "print(recall_score(yNSTest, y_prediction_NS_5, pos_label='S'))\n",
    "print(recall_score(yFTTest, y_prediction_FT_5, pos_label='T'))\n",
    "print(recall_score(yPJTest, y_prediction_JP_5, pos_label='J'), end='\\n\\n')\n",
    "\n",
    "# majority classes using SVM\n",
    "print('MAJORITY CLASSES:')\n",
    "print(recall_score(yIETest, y_prediction_IE_5, pos_label='I'))\n",
    "print(recall_score(yNSTest, y_prediction_NS_5, pos_label='N'))\n",
    "print(recall_score(yFTTest, y_prediction_FT_5, pos_label='F'))\n",
    "print(recall_score(yPJTest, y_prediction_JP_5, pos_label='P'))"
   ]
  },
  {
   "cell_type": "code",
   "execution_count": 73,
   "metadata": {},
   "outputs": [
    {
     "name": "stdout",
     "output_type": "stream",
     "text": [
      "              precision    recall  f1-score   support\n",
      "\n",
      "           E       0.46      0.49      0.47       600\n",
      "           I       0.84      0.82      0.83      2003\n",
      "\n",
      "    accuracy                           0.75      2603\n",
      "   macro avg       0.65      0.66      0.65      2603\n",
      "weighted avg       0.75      0.75      0.75      2603\n",
      "\n",
      "\n",
      "              precision    recall  f1-score   support\n",
      "\n",
      "           N       0.90      0.90      0.90      2244\n",
      "           S       0.39      0.39      0.39       359\n",
      "\n",
      "    accuracy                           0.83      2603\n",
      "   macro avg       0.65      0.65      0.65      2603\n",
      "weighted avg       0.83      0.83      0.83      2603\n",
      "\n",
      "\n",
      "              precision    recall  f1-score   support\n",
      "\n",
      "           F       0.76      0.75      0.75      1408\n",
      "           T       0.71      0.73      0.72      1195\n",
      "\n",
      "    accuracy                           0.74      2603\n",
      "   macro avg       0.74      0.74      0.74      2603\n",
      "weighted avg       0.74      0.74      0.74      2603\n",
      "\n",
      "\n",
      "              precision    recall  f1-score   support\n",
      "\n",
      "           J       0.59      0.57      0.58      1030\n",
      "           P       0.73      0.74      0.73      1573\n",
      "\n",
      "    accuracy                           0.68      2603\n",
      "   macro avg       0.66      0.66      0.66      2603\n",
      "weighted avg       0.67      0.68      0.67      2603\n",
      "\n",
      "\n"
     ]
    }
   ],
   "source": [
    "#find recall, precision, f1 score, and suppory for logistic regression\n",
    "\n",
    "print(classification_report(yIETest, y_prediction_IE_1), end='\\n\\n')\n",
    "print(classification_report(yNSTest, y_prediction_NS_1), end='\\n\\n')\n",
    "print(classification_report(yFTTest, y_prediction_FT_1), end='\\n\\n')\n",
    "print(classification_report(yPJTest, y_prediction_JP_1), end='\\n\\n')"
   ]
  },
  {
   "cell_type": "code",
   "execution_count": 44,
   "metadata": {},
   "outputs": [
    {
     "name": "stdout",
     "output_type": "stream",
     "text": [
      "              precision    recall  f1-score   support\n",
      "\n",
      "           E       0.48      0.58      0.53       505\n",
      "           I       0.86      0.81      0.84      1664\n",
      "\n",
      "    accuracy                           0.76      2169\n",
      "   macro avg       0.67      0.70      0.68      2169\n",
      "weighted avg       0.78      0.76      0.76      2169\n",
      "\n",
      "\n",
      "              precision    recall  f1-score   support\n",
      "\n",
      "           N       0.93      0.88      0.90      1862\n",
      "           S       0.44      0.59      0.50       307\n",
      "\n",
      "    accuracy                           0.84      2169\n",
      "   macro avg       0.68      0.73      0.70      2169\n",
      "weighted avg       0.86      0.84      0.85      2169\n",
      "\n",
      "\n",
      "              precision    recall  f1-score   support\n",
      "\n",
      "           F       0.78      0.80      0.79      1158\n",
      "           T       0.76      0.74      0.75      1011\n",
      "\n",
      "    accuracy                           0.77      2169\n",
      "   macro avg       0.77      0.77      0.77      2169\n",
      "weighted avg       0.77      0.77      0.77      2169\n",
      "\n",
      "\n",
      "              precision    recall  f1-score   support\n",
      "\n",
      "           J       0.57      0.59      0.58       843\n",
      "           P       0.74      0.72      0.73      1326\n",
      "\n",
      "    accuracy                           0.67      2169\n",
      "   macro avg       0.65      0.66      0.66      2169\n",
      "weighted avg       0.67      0.67      0.67      2169\n",
      "\n",
      "\n"
     ]
    }
   ],
   "source": [
    "#find recall, precision, f1 score, and support for naive bayes\n",
    "\n",
    "print(classification_report(yIETest, y_prediction_IE_2), end='\\n\\n')\n",
    "print(classification_report(yNSTest, y_prediction_NS_2), end='\\n\\n')\n",
    "print(classification_report(yFTTest, y_prediction_FT_2), end='\\n\\n')\n",
    "print(classification_report(yPJTest, y_prediction_JP_2), end='\\n\\n')"
   ]
  },
  {
   "cell_type": "code",
   "execution_count": 45,
   "metadata": {},
   "outputs": [
    {
     "name": "stdout",
     "output_type": "stream",
     "text": [
      "              precision    recall  f1-score   support\n",
      "\n",
      "           E       0.39      0.36      0.38       505\n",
      "           I       0.81      0.83      0.82      1664\n",
      "\n",
      "    accuracy                           0.72      2169\n",
      "   macro avg       0.60      0.60      0.60      2169\n",
      "weighted avg       0.71      0.72      0.72      2169\n",
      "\n",
      "\n",
      "              precision    recall  f1-score   support\n",
      "\n",
      "           N       0.89      0.89      0.89      1862\n",
      "           S       0.32      0.30      0.31       307\n",
      "\n",
      "    accuracy                           0.81      2169\n",
      "   macro avg       0.60      0.60      0.60      2169\n",
      "weighted avg       0.80      0.81      0.81      2169\n",
      "\n",
      "\n",
      "              precision    recall  f1-score   support\n",
      "\n",
      "           F       0.66      0.66      0.66      1158\n",
      "           T       0.61      0.61      0.61      1011\n",
      "\n",
      "    accuracy                           0.64      2169\n",
      "   macro avg       0.63      0.63      0.63      2169\n",
      "weighted avg       0.64      0.64      0.64      2169\n",
      "\n",
      "\n",
      "              precision    recall  f1-score   support\n",
      "\n",
      "           J       0.54      0.58      0.56       843\n",
      "           P       0.72      0.68      0.70      1326\n",
      "\n",
      "    accuracy                           0.64      2169\n",
      "   macro avg       0.63      0.63      0.63      2169\n",
      "weighted avg       0.65      0.64      0.64      2169\n",
      "\n",
      "\n"
     ]
    }
   ],
   "source": [
    "#find recall, precision, f1 score, and support for decision tree\n",
    "\n",
    "print(classification_report(yIETest, y_prediction_IE_3), end='\\n\\n')\n",
    "print(classification_report(yNSTest, y_prediction_NS_3), end='\\n\\n')\n",
    "print(classification_report(yFTTest, y_prediction_FT_3), end='\\n\\n')\n",
    "print(classification_report(yPJTest, y_prediction_JP_3), end='\\n\\n')"
   ]
  },
  {
   "cell_type": "code",
   "execution_count": 46,
   "metadata": {},
   "outputs": [
    {
     "name": "stdout",
     "output_type": "stream",
     "text": [
      "              precision    recall  f1-score   support\n",
      "\n",
      "           E       1.00      0.01      0.02       505\n",
      "           I       0.77      1.00      0.87      1664\n",
      "\n",
      "    accuracy                           0.77      2169\n",
      "   macro avg       0.88      0.50      0.44      2169\n",
      "weighted avg       0.82      0.77      0.67      2169\n",
      "\n",
      "\n",
      "              precision    recall  f1-score   support\n",
      "\n",
      "           N       0.86      1.00      0.92      1862\n",
      "           S       0.00      0.00      0.00       307\n",
      "\n",
      "    accuracy                           0.86      2169\n",
      "   macro avg       0.43      0.50      0.46      2169\n",
      "weighted avg       0.74      0.86      0.79      2169\n",
      "\n",
      "\n",
      "              precision    recall  f1-score   support\n",
      "\n",
      "           F       0.72      0.88      0.79      1158\n",
      "           T       0.81      0.60      0.69      1011\n",
      "\n",
      "    accuracy                           0.75      2169\n",
      "   macro avg       0.76      0.74      0.74      2169\n",
      "weighted avg       0.76      0.75      0.74      2169\n",
      "\n",
      "\n",
      "              precision    recall  f1-score   support\n",
      "\n",
      "           J       0.69      0.27      0.39       843\n",
      "           P       0.67      0.92      0.77      1326\n",
      "\n",
      "    accuracy                           0.67      2169\n",
      "   macro avg       0.68      0.60      0.58      2169\n",
      "weighted avg       0.68      0.67      0.63      2169\n",
      "\n",
      "\n"
     ]
    }
   ],
   "source": [
    "#find recall, precision, f1 score, and support for random forest\n",
    "\n",
    "print(classification_report(yIETest, y_prediction_IE_4), end='\\n\\n')\n",
    "print(classification_report(yNSTest, y_prediction_NS_4), end='\\n\\n')\n",
    "print(classification_report(yFTTest, y_prediction_FT_4), end='\\n\\n')\n",
    "print(classification_report(yPJTest, y_prediction_JP_4), end='\\n\\n')"
   ]
  },
  {
   "cell_type": "code",
   "execution_count": 47,
   "metadata": {},
   "outputs": [
    {
     "name": "stdout",
     "output_type": "stream",
     "text": [
      "              precision    recall  f1-score   support\n",
      "\n",
      "           E       0.83      0.13      0.23       505\n",
      "           I       0.79      0.99      0.88      1664\n",
      "\n",
      "    accuracy                           0.79      2169\n",
      "   macro avg       0.81      0.56      0.55      2169\n",
      "weighted avg       0.80      0.79      0.73      2169\n",
      "\n",
      "\n",
      "              precision    recall  f1-score   support\n",
      "\n",
      "           N       0.86      1.00      0.92      1862\n",
      "           S       1.00      0.01      0.01       307\n",
      "\n",
      "    accuracy                           0.86      2169\n",
      "   macro avg       0.93      0.50      0.47      2169\n",
      "weighted avg       0.88      0.86      0.80      2169\n",
      "\n",
      "\n",
      "              precision    recall  f1-score   support\n",
      "\n",
      "           F       0.80      0.85      0.83      1158\n",
      "           T       0.81      0.76      0.79      1011\n",
      "\n",
      "    accuracy                           0.81      2169\n",
      "   macro avg       0.81      0.81      0.81      2169\n",
      "weighted avg       0.81      0.81      0.81      2169\n",
      "\n",
      "\n",
      "              precision    recall  f1-score   support\n",
      "\n",
      "           J       0.74      0.47      0.57       843\n",
      "           P       0.73      0.90      0.80      1326\n",
      "\n",
      "    accuracy                           0.73      2169\n",
      "   macro avg       0.73      0.68      0.69      2169\n",
      "weighted avg       0.73      0.73      0.71      2169\n",
      "\n",
      "\n"
     ]
    }
   ],
   "source": [
    "#find recall, precision, f1 score, and support for svm\n",
    "\n",
    "print(classification_report(yIETest, y_prediction_IE_5), end='\\n\\n')\n",
    "print(classification_report(yNSTest, y_prediction_NS_5), end='\\n\\n')\n",
    "print(classification_report(yFTTest, y_prediction_FT_5), end='\\n\\n')\n",
    "print(classification_report(yPJTest, y_prediction_JP_5), end='\\n\\n')"
   ]
  },
  {
   "cell_type": "code",
   "execution_count": 43,
   "metadata": {},
   "outputs": [
    {
     "name": "stdout",
     "output_type": "stream",
     "text": [
      "Actual Value\n",
      "I    1635\n",
      "E     534\n",
      "dtype: int64\n",
      "\n",
      "Predicted Value\n",
      "I    1618\n",
      "E     551\n",
      "dtype: int64\n",
      "\n"
     ]
    },
    {
     "data": {
      "image/png": "[encoded data removed]",
      "text/plain": [
       "<Figure size 432x288 with 1 Axes>"
      ]
     },
     "metadata": {
      "needs_background": "light"
     },
     "output_type": "display_data"
    }
   ],
   "source": [
    "#showing actual value and predicted value for logistic regression \n",
    "\n",
    "print(\"Actual Value\")\n",
    "print(pd.Series(yIETest).value_counts(), end='\\n\\n')\n",
    "print(\"Predicted Value\")\n",
    "print(pd.Series(y_prediction_IE_1).value_counts(), end='\\n\\n')\n",
    "\n",
    "pd.Series(yIETest).hist(alpha=0.7)\n",
    "pd.Series(y_prediction_IE_1).hist(alpha=0.7)\n",
    "plt.show()"
   ]
  },
  {
   "cell_type": "code",
   "execution_count": 44,
   "metadata": {},
   "outputs": [
    {
     "name": "stdout",
     "output_type": "stream",
     "text": [
      "Actual Value\n",
      "N    1862\n",
      "S     307\n",
      "dtype: int64\n",
      "\n",
      "N    1866\n",
      "S     303\n",
      "dtype: int64\n",
      "Predicted Value\n"
     ]
    },
    {
     "data": {
      "image/png": "[encoded data removed]",
      "text/plain": [
       "<Figure size 432x288 with 1 Axes>"
      ]
     },
     "metadata": {
      "needs_background": "light"
     },
     "output_type": "display_data"
    }
   ],
   "source": [
    "print(\"Actual Value\")\n",
    "print(pd.Series(yNSTest).value_counts(), end='\\n\\n')\n",
    "print(pd.Series(y_prediction_NS_1).value_counts())\n",
    "print(\"Predicted Value\")\n",
    "\n",
    "pd.Series(yNSTest).hist(alpha=0.7)\n",
    "pd.Series(y_prediction_NS_1).hist(alpha=0.7)\n",
    "plt.show()"
   ]
  },
  {
   "cell_type": "code",
   "execution_count": 45,
   "metadata": {},
   "outputs": [
    {
     "name": "stdout",
     "output_type": "stream",
     "text": [
      "Actual Value\n",
      "F    1175\n",
      "T     994\n",
      "dtype: int64\n",
      "\n",
      "F    1149\n",
      "T    1020\n",
      "dtype: int64\n",
      "Predicted Value\n"
     ]
    },
    {
     "data": {
      "image/png": "[encoded data removed]",
      "text/plain": [
       "<Figure size 432x288 with 1 Axes>"
      ]
     },
     "metadata": {
      "needs_background": "light"
     },
     "output_type": "display_data"
    }
   ],
   "source": [
    "print(\"Actual Value\")\n",
    "print(pd.Series(yFTTest).value_counts(), end='\\n\\n')\n",
    "print(pd.Series(y_prediction_FT_1).value_counts())\n",
    "print(\"Predicted Value\")\n",
    "\n",
    "pd.Series(yFTTest).hist(alpha=0.7)\n",
    "pd.Series(y_prediction_FT_1).hist(alpha=0.7)\n",
    "plt.show()"
   ]
  },
  {
   "cell_type": "code",
   "execution_count": 46,
   "metadata": {},
   "outputs": [
    {
     "name": "stdout",
     "output_type": "stream",
     "text": [
      "Actual Value\n",
      "P    1281\n",
      "J     888\n",
      "dtype: int64\n",
      "\n",
      "P    1303\n",
      "J     866\n",
      "dtype: int64\n",
      "Predicted Value\n"
     ]
    },
    {
     "data": {
      "image/png": "[encoded data removed]",
      "text/plain": [
       "<Figure size 432x288 with 1 Axes>"
      ]
     },
     "metadata": {
      "needs_background": "light"
     },
     "output_type": "display_data"
    }
   ],
   "source": [
    "print(\"Actual Value\")\n",
    "print(pd.Series(yPJTest).value_counts(), end='\\n\\n')\n",
    "print(pd.Series(y_prediction_JP_1).value_counts())\n",
    "print(\"Predicted Value\")\n",
    "\n",
    "pd.Series(yPJTest).hist(alpha=0.7)\n",
    "pd.Series(y_prediction_JP_1).hist(alpha=0.7)\n",
    "plt.show()"
   ]
  },
  {
   "cell_type": "code",
   "execution_count": 64,
   "metadata": {},
   "outputs": [
    {
     "name": "stdout",
     "output_type": "stream",
     "text": [
      "Actual Value\n",
      "I    2003\n",
      "E     600\n",
      "dtype: int64\n",
      "\n",
      "Predicted Value\n",
      "I    1901\n",
      "E     702\n",
      "dtype: int64\n",
      "\n"
     ]
    },
    {
     "data": {
      "image/png": "[encoded data removed]",
      "text/plain": [
       "<Figure size 432x288 with 1 Axes>"
      ]
     },
     "metadata": {
      "needs_background": "light"
     },
     "output_type": "display_data"
    }
   ],
   "source": [
    "#showing actual value and predicted value for Naive Bayes \n",
    "print(\"Actual Value\")\n",
    "print(pd.Series(yIETest).value_counts(), end='\\n\\n')\n",
    "print(\"Predicted Value\")\n",
    "print(pd.Series(y_prediction_IE_2).value_counts(), end='\\n\\n')\n",
    "\n",
    "pd.Series(yIETest).hist(alpha=0.7)\n",
    "pd.Series(y_prediction_IE_2).hist(alpha=0.7)\n",
    "plt.show()"
   ]
  },
  {
   "cell_type": "code",
   "execution_count": 65,
   "metadata": {},
   "outputs": [
    {
     "name": "stdout",
     "output_type": "stream",
     "text": [
      "Actual Value\n",
      "N    2244\n",
      "S     359\n",
      "dtype: int64\n",
      "\n",
      "N    2095\n",
      "S     508\n",
      "dtype: int64\n",
      "Predicted Value\n"
     ]
    },
    {
     "data": {
      "image/png": "[encoded data removed]",
      "text/plain": [
       "<Figure size 432x288 with 1 Axes>"
      ]
     },
     "metadata": {
      "needs_background": "light"
     },
     "output_type": "display_data"
    }
   ],
   "source": [
    "print(\"Actual Value\")\n",
    "print(pd.Series(yNSTest).value_counts(), end='\\n\\n')\n",
    "print(pd.Series(y_prediction_NS_2).value_counts())\n",
    "print(\"Predicted Value\")\n",
    "\n",
    "pd.Series(yNSTest).hist(alpha=0.7)\n",
    "pd.Series(y_prediction_NS_2).hist(alpha=0.7)\n",
    "plt.show()"
   ]
  },
  {
   "cell_type": "code",
   "execution_count": 66,
   "metadata": {},
   "outputs": [
    {
     "name": "stdout",
     "output_type": "stream",
     "text": [
      "Actual Value\n",
      "F    1408\n",
      "T    1195\n",
      "dtype: int64\n",
      "\n",
      "F    1372\n",
      "T    1231\n",
      "dtype: int64\n",
      "Predicted Value\n"
     ]
    },
    {
     "data": {
      "image/png": "[encoded data removed]",
      "text/plain": [
       "<Figure size 432x288 with 1 Axes>"
      ]
     },
     "metadata": {
      "needs_background": "light"
     },
     "output_type": "display_data"
    }
   ],
   "source": [
    "print(\"Actual Value\")\n",
    "print(pd.Series(yFTTest).value_counts(), end='\\n\\n')\n",
    "print(pd.Series(y_prediction_FT_2).value_counts())\n",
    "print(\"Predicted Value\")\n",
    "\n",
    "pd.Series(yFTTest).hist(alpha=0.7)\n",
    "pd.Series(y_prediction_FT_2).hist(alpha=0.7)\n",
    "plt.show()"
   ]
  },
  {
   "cell_type": "code",
   "execution_count": 67,
   "metadata": {},
   "outputs": [
    {
     "name": "stdout",
     "output_type": "stream",
     "text": [
      "Actual Value\n",
      "P    1573\n",
      "J    1030\n",
      "dtype: int64\n",
      "\n",
      "P    1585\n",
      "J    1018\n",
      "dtype: int64\n",
      "Predicted Value\n"
     ]
    },
    {
     "data": {
      "image/png": "[encoded data removed]",
      "text/plain": [
       "<Figure size 432x288 with 1 Axes>"
      ]
     },
     "metadata": {
      "needs_background": "light"
     },
     "output_type": "display_data"
    }
   ],
   "source": [
    "print(\"Actual Value\")\n",
    "print(pd.Series(yPJTest).value_counts(), end='\\n\\n')\n",
    "print(pd.Series(y_prediction_JP_2).value_counts())\n",
    "print(\"Predicted Value\")\n",
    "\n",
    "pd.Series(yPJTest).hist(alpha=0.7)\n",
    "pd.Series(y_prediction_JP_2).hist(alpha=0.7)\n",
    "plt.show()"
   ]
  },
  {
   "cell_type": "code",
   "execution_count": 74,
   "metadata": {},
   "outputs": [
    {
     "name": "stdout",
     "output_type": "stream",
     "text": [
      "Actual Value\n",
      "I    2003\n",
      "E     600\n",
      "dtype: int64\n",
      "\n",
      "I    2466\n",
      "E     137\n",
      "dtype: int64\n",
      "\n",
      "Predicted Value\n"
     ]
    },
    {
     "data": {
      "image/png": "[encoded data removed]",
      "text/plain": [
       "<Figure size 432x288 with 1 Axes>"
      ]
     },
     "metadata": {
      "needs_background": "light"
     },
     "output_type": "display_data"
    }
   ],
   "source": [
    "#showing actual value and predicted value for SVM\n",
    "print(\"Actual Value\")\n",
    "print(pd.Series(yIETest).value_counts(), end='\\n\\n')\n",
    "print(pd.Series(y_prediction_IE_5).value_counts(), end='\\n\\n')\n",
    "print(\"Predicted Value\")\n",
    "\n",
    "pd.Series(yIETest).hist(alpha=0.7)\n",
    "pd.Series(y_prediction_IE_5).hist(alpha=0.7)\n",
    "plt.show()"
   ]
  },
  {
   "cell_type": "code",
   "execution_count": 75,
   "metadata": {},
   "outputs": [
    {
     "name": "stdout",
     "output_type": "stream",
     "text": [
      "Actual Value\n",
      "N    2244\n",
      "S     359\n",
      "dtype: int64\n",
      "\n",
      "N    2602\n",
      "S       1\n",
      "dtype: int64\n",
      "Predicted Value\n"
     ]
    },
    {
     "data": {
      "image/png": "[encoded data removed]",
      "text/plain": [
       "<Figure size 432x288 with 1 Axes>"
      ]
     },
     "metadata": {
      "needs_background": "light"
     },
     "output_type": "display_data"
    }
   ],
   "source": [
    "print(\"Actual Value\")\n",
    "print(pd.Series(yNSTest).value_counts(), end='\\n\\n')\n",
    "print(pd.Series(y_prediction_NS_5).value_counts())\n",
    "print(\"Predicted Value\")\n",
    "\n",
    "pd.Series(yNSTest).hist(alpha=0.7)\n",
    "pd.Series(y_prediction_NS_5).hist(alpha=0.7)\n",
    "plt.show()"
   ]
  },
  {
   "cell_type": "code",
   "execution_count": 76,
   "metadata": {},
   "outputs": [
    {
     "name": "stdout",
     "output_type": "stream",
     "text": [
      "Actual Value\n",
      "F    1408\n",
      "T    1195\n",
      "dtype: int64\n",
      "\n",
      "F    1410\n",
      "T    1193\n",
      "dtype: int64\n",
      "Predicted Value\n"
     ]
    },
    {
     "data": {
      "image/png": "[encoded data removed]",
      "text/plain": [
       "<Figure size 432x288 with 1 Axes>"
      ]
     },
     "metadata": {
      "needs_background": "light"
     },
     "output_type": "display_data"
    }
   ],
   "source": [
    "print(\"Actual Value\")\n",
    "print(pd.Series(yFTTest).value_counts(), end='\\n\\n')\n",
    "print(pd.Series(y_prediction_FT_5).value_counts())\n",
    "print(\"Predicted Value\")\n",
    "\n",
    "pd.Series(yFTTest).hist(alpha=0.7)\n",
    "pd.Series(y_prediction_FT_5).hist(alpha=0.7)\n",
    "plt.show()"
   ]
  },
  {
   "cell_type": "code",
   "execution_count": 77,
   "metadata": {},
   "outputs": [
    {
     "name": "stdout",
     "output_type": "stream",
     "text": [
      "Actual Value\n",
      "P    1573\n",
      "J    1030\n",
      "dtype: int64\n",
      "\n",
      "P    1993\n",
      "J     610\n",
      "dtype: int64\n",
      "Predicted Value\n"
     ]
    },
    {
     "data": {
      "image/png": "[encoded data removed]",
      "text/plain": [
       "<Figure size 432x288 with 1 Axes>"
      ]
     },
     "metadata": {
      "needs_background": "light"
     },
     "output_type": "display_data"
    }
   ],
   "source": [
    "print(\"Actual Value\")\n",
    "print(pd.Series(yPJTest).value_counts(), end='\\n\\n')\n",
    "print(pd.Series(y_prediction_JP_5).value_counts())\n",
    "print(\"Predicted Value\")\n",
    "\n",
    "pd.Series(yPJTest).hist(alpha=0.7)\n",
    "pd.Series(y_prediction_JP_5).hist(alpha=0.7)\n",
    "plt.show()"
   ]
  },
  {
   "cell_type": "markdown",
   "metadata": {},
   "source": [
    "Applying models to balancing data using oversampling and undersampling techniques "
   ]
  },
  {
   "cell_type": "code",
   "execution_count": 30,
   "metadata": {},
   "outputs": [],
   "source": [
    "from imblearn.over_sampling import RandomOverSampler, SMOTE\n",
    "from imblearn.under_sampling import NearMiss"
   ]
  },
  {
   "cell_type": "code",
   "execution_count": 31,
   "metadata": {},
   "outputs": [],
   "source": [
    "#Resamples the data and returns two tuples for oversampled data and undersampled data\n",
    "def balance_data(X, y):\n",
    "    \n",
    "    sm = SMOTE()\n",
    "    nm = NearMiss()\n",
    "    X_sm,y_sm = sm.fit_sample(X, y)\n",
    "    X_nm,y_nm = nm.fit_sample(X, y)\n",
    "    return (X_sm, y_sm), (X_nm, y_nm)"
   ]
  },
  {
   "cell_type": "code",
   "execution_count": 32,
   "metadata": {},
   "outputs": [
    {
     "name": "stdout",
     "output_type": "stream",
     "text": [
      "Oversampling 0.7353054168267383\n",
      "Undersampling 0.5812524010756819\n"
     ]
    }
   ],
   "source": [
    "#for logirstic regression\n",
    "\n",
    "logreg_sm_model = train_model(lr,\n",
    "                              balance_data(xIETrain, yIETrain)[0][0],\n",
    "                             balance_data(xIETrain, yIETrain)[0][1])\n",
    "\n",
    "y_pred_logreg_sm_model = predict_value(logreg_sm_model, xIETest)\n",
    "\n",
    "logreg_nm_model = train_model(lr,\n",
    "                              balance_data(xIETrain, yIETrain)[1][0],\n",
    "                             balance_data(xIETrain, yIETrain)[1][1])\n",
    "\n",
    "y_pred_logreg_nm_model = predict_value(logreg_nm_model, xIETest)\n",
    "\n",
    "accuracy_logreg_sm_model = accuracy_score(yIETest,y_pred_logreg_sm_model)\n",
    "accuracy_logreg_nm_model = accuracy_score(yIETest,y_pred_logreg_nm_model)\n",
    "\n",
    "print(\"Oversampling\", accuracy_logreg_sm_model)\n",
    "print(\"Undersampling\", accuracy_logreg_nm_model)"
   ]
  },
  {
   "cell_type": "code",
   "execution_count": 82,
   "metadata": {},
   "outputs": [
    {
     "name": "stdout",
     "output_type": "stream",
     "text": [
      "Oversampling 0.7629658086822897\n",
      "Undersampling 0.5973876296580868\n"
     ]
    }
   ],
   "source": [
    "#naive bayes \n",
    "\n",
    "bayes_sm_model = train_model(bayes,\n",
    "                              balance_data(xIETrain, yIETrain)[0][0],\n",
    "                             balance_data(xIETrain, yIETrain)[0][1])\n",
    "\n",
    "\n",
    "y_pred_bayes_sm_model = predict_value(bayes_sm_model, xIETest)\n",
    "\n",
    "bayes_nm_model = train_model(bayes,\n",
    "                              balance_data(xIETrain, yIETrain)[1][0],\n",
    "                             balance_data(xIETrain, yIETrain)[1][1])\n",
    "\n",
    "y_pred_bayes_nm_model = predict_value(bayes_nm_model, xIETest)\n",
    "\n",
    "\n",
    "accuracy_bayes_sm_model = accuracy_score(yIETest,y_pred_bayes_sm_model)\n",
    "accuracy_bayes_nm_model = accuracy_score(yIETest,y_pred_bayes_nm_model)\n",
    "\n",
    "print(\"Oversampling\", accuracy_bayes_sm_model)\n",
    "print(\"Undersampling\", accuracy_bayes_nm_model)"
   ]
  },
  {
   "cell_type": "code",
   "execution_count": 83,
   "metadata": {},
   "outputs": [
    {
     "name": "stdout",
     "output_type": "stream",
     "text": [
      "Oversampling 0.7410679984633116\n",
      "Undersampling 0.40991164041490585\n"
     ]
    }
   ],
   "source": [
    "# random forest\n",
    "rf_sm_model = train_model(rf,\n",
    "                              balance_data(xIETrain, yIETrain)[0][0],\n",
    "                             balance_data(xIETrain, yIETrain)[0][1])\n",
    "\n",
    "\n",
    "y_pred_rf_sm_model = predict_value(rf_sm_model, xIETest)\n",
    "\n",
    "rf_nm_model = train_model(rf,\n",
    "                              balance_data(xIETrain, yIETrain)[1][0],\n",
    "                             balance_data(xIETrain, yIETrain)[1][1])\n",
    "\n",
    "y_pred_rf_nm_model = predict_value(rf_nm_model, xIETest)\n",
    "\n",
    "\n",
    "accuracy_rf_sm_model = accuracy_score(yIETest,y_pred_rf_sm_model)\n",
    "accuracy_rf_nm_model = accuracy_score(yIETest,y_pred_rf_nm_model)\n",
    "\n",
    "print(\"Oversampling\",accuracy_rf_sm_model)\n",
    "print(\"Undersampling\", accuracy_rf_nm_model)"
   ]
  },
  {
   "cell_type": "code",
   "execution_count": 84,
   "metadata": {},
   "outputs": [
    {
     "name": "stdout",
     "output_type": "stream",
     "text": [
      "Oversampling 0.7856319631194775\n",
      "Undersampling 0.4610065309258548\n"
     ]
    }
   ],
   "source": [
    "#svm\n",
    "svm_sm_model = train_model(svm,\n",
    "                              balance_data(xIETrain, yIETrain)[0][0],\n",
    "                             balance_data(xIETrain, yIETrain)[0][1])\n",
    "\n",
    "\n",
    "y_pred_svm_sm_model = predict_value(svm_sm_model, xIETest)\n",
    "\n",
    "svm_nm_model = train_model(svm,\n",
    "                              balance_data(xIETrain, yIETrain)[1][0],\n",
    "                             balance_data(xIETrain, yIETrain)[1][1])\n",
    "\n",
    "y_pred_svm_nm_model = predict_value(svm_nm_model, xIETest)\n",
    "\n",
    "\n",
    "accuracy_svm_sm_model = accuracy_score(yIETest,y_pred_svm_sm_model)\n",
    "accuracy_svm_nm_model = accuracy_score(yIETest,y_pred_svm_nm_model)\n",
    "\n",
    "print(\"Oversampling\",accuracy_svm_sm_model)\n",
    "print(\"Undersampling\", accuracy_svm_nm_model)"
   ]
  },
  {
   "cell_type": "code",
   "execution_count": null,
   "metadata": {},
   "outputs": [],
   "source": []
  }
 ],
 "metadata": {
  "kernelspec": {
   "display_name": "Python 3",
   "language": "python",
   "name": "python3"
  },
  "language_info": {
   "codemirror_mode": {
    "name": "ipython",
    "version": 3
   },
   "file_extension": ".py",
   "mimetype": "text/x-python",
   "name": "python",
   "nbconvert_exporter": "python",
   "pygments_lexer": "ipython3",
   "version": "3.8.3"
  }
 },
 "nbformat": 4,
 "nbformat_minor": 4
}
